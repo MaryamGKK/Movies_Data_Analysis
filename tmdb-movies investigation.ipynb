{
 "cells": [
  {
   "cell_type": "markdown",
   "metadata": {},
   "source": [
    "# Project: tmdb-movies Data Analysis\n",
    "\n",
    "## Table of Contents\n",
    "<ul>\n",
    "<li><a href=\"#intro\">Introduction</a></li>\n",
    "<li><a href=\"#wrangling\">Data Wrangling</a></li>\n",
    "<li><a href=\"#eda\">Exploratory Data Analysis</a></li>\n",
    "<li><a href=\"#conclusions\">Conclusions</a></li>\n",
    "</ul>"
   ]
  },
  {
   "cell_type": "markdown",
   "metadata": {},
   "source": [
    "<a id='intro'></a>\n",
    "## Introduction\n",
    "\n",
    "> In this project i will anlayze the tmdb-movies data set to investigate what are the trends assossiated with high reveneues and trends in movies through out the years."
   ]
  },
  {
   "cell_type": "code",
   "execution_count": 1,
   "metadata": {},
   "outputs": [],
   "source": [
    "# Importing libararies\n",
    "import numpy as np\n",
    "import pandas as pd\n",
    "import matplotlib.pyplot as plt\n",
    "import seaborn as sns\n",
    "%matplotlib inline"
   ]
  },
  {
   "cell_type": "markdown",
   "metadata": {},
   "source": [
    "<a id='wrangling'></a>\n",
    "## Data Wrangling\n",
    "\n",
    "1) I read the data to a df.<br>\n",
    "2) Checked the head of the data frame to see if loading happend correctly.\n",
    "### General Properties"
   ]
  },
  {
   "cell_type": "code",
   "execution_count": 4,
   "metadata": {},
   "outputs": [
    {
     "data": {
      "text/html": [
       "<div>\n",
       "<style scoped>\n",
       "    .dataframe tbody tr th:only-of-type {\n",
       "        vertical-align: middle;\n",
       "    }\n",
       "\n",
       "    .dataframe tbody tr th {\n",
       "        vertical-align: top;\n",
       "    }\n",
       "\n",
       "    .dataframe thead th {\n",
       "        text-align: right;\n",
       "    }\n",
       "</style>\n",
       "<table border=\"1\" class=\"dataframe\">\n",
       "  <thead>\n",
       "    <tr style=\"text-align: right;\">\n",
       "      <th></th>\n",
       "      <th>id</th>\n",
       "      <th>imdb_id</th>\n",
       "      <th>popularity</th>\n",
       "      <th>budget</th>\n",
       "      <th>revenue</th>\n",
       "      <th>original_title</th>\n",
       "      <th>cast</th>\n",
       "      <th>homepage</th>\n",
       "      <th>director</th>\n",
       "      <th>tagline</th>\n",
       "      <th>...</th>\n",
       "      <th>overview</th>\n",
       "      <th>runtime</th>\n",
       "      <th>genres</th>\n",
       "      <th>production_companies</th>\n",
       "      <th>release_date</th>\n",
       "      <th>vote_count</th>\n",
       "      <th>vote_average</th>\n",
       "      <th>release_year</th>\n",
       "      <th>budget_adj</th>\n",
       "      <th>revenue_adj</th>\n",
       "    </tr>\n",
       "  </thead>\n",
       "  <tbody>\n",
       "    <tr>\n",
       "      <td>0</td>\n",
       "      <td>135397</td>\n",
       "      <td>tt0369610</td>\n",
       "      <td>32.985763</td>\n",
       "      <td>150000000</td>\n",
       "      <td>1513528810</td>\n",
       "      <td>Jurassic World</td>\n",
       "      <td>Chris Pratt|Bryce Dallas Howard|Irrfan Khan|Vi...</td>\n",
       "      <td>http://www.jurassicworld.com/</td>\n",
       "      <td>Colin Trevorrow</td>\n",
       "      <td>The park is open.</td>\n",
       "      <td>...</td>\n",
       "      <td>Twenty-two years after the events of Jurassic ...</td>\n",
       "      <td>124</td>\n",
       "      <td>Action|Adventure|Science Fiction|Thriller</td>\n",
       "      <td>Universal Studios|Amblin Entertainment|Legenda...</td>\n",
       "      <td>6/9/15</td>\n",
       "      <td>5562</td>\n",
       "      <td>6.5</td>\n",
       "      <td>2015</td>\n",
       "      <td>1.379999e+08</td>\n",
       "      <td>1.392446e+09</td>\n",
       "    </tr>\n",
       "  </tbody>\n",
       "</table>\n",
       "<p>1 rows × 21 columns</p>\n",
       "</div>"
      ],
      "text/plain": [
       "       id    imdb_id  popularity     budget     revenue  original_title  \\\n",
       "0  135397  tt0369610   32.985763  150000000  1513528810  Jurassic World   \n",
       "\n",
       "                                                cast  \\\n",
       "0  Chris Pratt|Bryce Dallas Howard|Irrfan Khan|Vi...   \n",
       "\n",
       "                        homepage         director            tagline  ...  \\\n",
       "0  http://www.jurassicworld.com/  Colin Trevorrow  The park is open.  ...   \n",
       "\n",
       "                                            overview runtime  \\\n",
       "0  Twenty-two years after the events of Jurassic ...     124   \n",
       "\n",
       "                                      genres  \\\n",
       "0  Action|Adventure|Science Fiction|Thriller   \n",
       "\n",
       "                                production_companies release_date vote_count  \\\n",
       "0  Universal Studios|Amblin Entertainment|Legenda...       6/9/15       5562   \n",
       "\n",
       "   vote_average  release_year    budget_adj   revenue_adj  \n",
       "0           6.5          2015  1.379999e+08  1.392446e+09  \n",
       "\n",
       "[1 rows x 21 columns]"
      ]
     },
     "execution_count": 4,
     "metadata": {},
     "output_type": "execute_result"
    }
   ],
   "source": [
    "# Load your data and print out a few lines. Perform operations to inspect data\n",
    "df = pd.read_csv(\"tmdb-movies .csv\")\n",
    "#   types and look for instances of missing or possibly errant data.\n",
    "df.head(1)"
   ]
  },
  {
   "cell_type": "markdown",
   "metadata": {},
   "source": [
    "To see how many rows and columns there are in the data set"
   ]
  },
  {
   "cell_type": "code",
   "execution_count": 5,
   "metadata": {},
   "outputs": [
    {
     "data": {
      "text/plain": [
       "(10866, 21)"
      ]
     },
     "execution_count": 5,
     "metadata": {},
     "output_type": "execute_result"
    }
   ],
   "source": [
    "df.shape"
   ]
  },
  {
   "cell_type": "markdown",
   "metadata": {},
   "source": [
    "For learning what are the statistical properities of the dataset for each feature."
   ]
  },
  {
   "cell_type": "code",
   "execution_count": 6,
   "metadata": {},
   "outputs": [
    {
     "data": {
      "text/html": [
       "<div>\n",
       "<style scoped>\n",
       "    .dataframe tbody tr th:only-of-type {\n",
       "        vertical-align: middle;\n",
       "    }\n",
       "\n",
       "    .dataframe tbody tr th {\n",
       "        vertical-align: top;\n",
       "    }\n",
       "\n",
       "    .dataframe thead th {\n",
       "        text-align: right;\n",
       "    }\n",
       "</style>\n",
       "<table border=\"1\" class=\"dataframe\">\n",
       "  <thead>\n",
       "    <tr style=\"text-align: right;\">\n",
       "      <th></th>\n",
       "      <th>id</th>\n",
       "      <th>popularity</th>\n",
       "      <th>budget</th>\n",
       "      <th>revenue</th>\n",
       "      <th>runtime</th>\n",
       "      <th>vote_count</th>\n",
       "      <th>vote_average</th>\n",
       "      <th>release_year</th>\n",
       "      <th>budget_adj</th>\n",
       "      <th>revenue_adj</th>\n",
       "    </tr>\n",
       "  </thead>\n",
       "  <tbody>\n",
       "    <tr>\n",
       "      <td>count</td>\n",
       "      <td>10866.000000</td>\n",
       "      <td>10866.000000</td>\n",
       "      <td>1.086600e+04</td>\n",
       "      <td>1.086600e+04</td>\n",
       "      <td>10866.000000</td>\n",
       "      <td>10866.000000</td>\n",
       "      <td>10866.000000</td>\n",
       "      <td>10866.000000</td>\n",
       "      <td>1.086600e+04</td>\n",
       "      <td>1.086600e+04</td>\n",
       "    </tr>\n",
       "    <tr>\n",
       "      <td>mean</td>\n",
       "      <td>66064.177434</td>\n",
       "      <td>0.646441</td>\n",
       "      <td>1.462570e+07</td>\n",
       "      <td>3.982332e+07</td>\n",
       "      <td>102.070863</td>\n",
       "      <td>217.389748</td>\n",
       "      <td>5.974922</td>\n",
       "      <td>2001.322658</td>\n",
       "      <td>1.755104e+07</td>\n",
       "      <td>5.136436e+07</td>\n",
       "    </tr>\n",
       "    <tr>\n",
       "      <td>std</td>\n",
       "      <td>92130.136561</td>\n",
       "      <td>1.000185</td>\n",
       "      <td>3.091321e+07</td>\n",
       "      <td>1.170035e+08</td>\n",
       "      <td>31.381405</td>\n",
       "      <td>575.619058</td>\n",
       "      <td>0.935142</td>\n",
       "      <td>12.812941</td>\n",
       "      <td>3.430616e+07</td>\n",
       "      <td>1.446325e+08</td>\n",
       "    </tr>\n",
       "    <tr>\n",
       "      <td>min</td>\n",
       "      <td>5.000000</td>\n",
       "      <td>0.000065</td>\n",
       "      <td>0.000000e+00</td>\n",
       "      <td>0.000000e+00</td>\n",
       "      <td>0.000000</td>\n",
       "      <td>10.000000</td>\n",
       "      <td>1.500000</td>\n",
       "      <td>1960.000000</td>\n",
       "      <td>0.000000e+00</td>\n",
       "      <td>0.000000e+00</td>\n",
       "    </tr>\n",
       "    <tr>\n",
       "      <td>25%</td>\n",
       "      <td>10596.250000</td>\n",
       "      <td>0.207583</td>\n",
       "      <td>0.000000e+00</td>\n",
       "      <td>0.000000e+00</td>\n",
       "      <td>90.000000</td>\n",
       "      <td>17.000000</td>\n",
       "      <td>5.400000</td>\n",
       "      <td>1995.000000</td>\n",
       "      <td>0.000000e+00</td>\n",
       "      <td>0.000000e+00</td>\n",
       "    </tr>\n",
       "    <tr>\n",
       "      <td>50%</td>\n",
       "      <td>20669.000000</td>\n",
       "      <td>0.383856</td>\n",
       "      <td>0.000000e+00</td>\n",
       "      <td>0.000000e+00</td>\n",
       "      <td>99.000000</td>\n",
       "      <td>38.000000</td>\n",
       "      <td>6.000000</td>\n",
       "      <td>2006.000000</td>\n",
       "      <td>0.000000e+00</td>\n",
       "      <td>0.000000e+00</td>\n",
       "    </tr>\n",
       "    <tr>\n",
       "      <td>75%</td>\n",
       "      <td>75610.000000</td>\n",
       "      <td>0.713817</td>\n",
       "      <td>1.500000e+07</td>\n",
       "      <td>2.400000e+07</td>\n",
       "      <td>111.000000</td>\n",
       "      <td>145.750000</td>\n",
       "      <td>6.600000</td>\n",
       "      <td>2011.000000</td>\n",
       "      <td>2.085325e+07</td>\n",
       "      <td>3.369710e+07</td>\n",
       "    </tr>\n",
       "    <tr>\n",
       "      <td>max</td>\n",
       "      <td>417859.000000</td>\n",
       "      <td>32.985763</td>\n",
       "      <td>4.250000e+08</td>\n",
       "      <td>2.781506e+09</td>\n",
       "      <td>900.000000</td>\n",
       "      <td>9767.000000</td>\n",
       "      <td>9.200000</td>\n",
       "      <td>2015.000000</td>\n",
       "      <td>4.250000e+08</td>\n",
       "      <td>2.827124e+09</td>\n",
       "    </tr>\n",
       "  </tbody>\n",
       "</table>\n",
       "</div>"
      ],
      "text/plain": [
       "                  id    popularity        budget       revenue       runtime  \\\n",
       "count   10866.000000  10866.000000  1.086600e+04  1.086600e+04  10866.000000   \n",
       "mean    66064.177434      0.646441  1.462570e+07  3.982332e+07    102.070863   \n",
       "std     92130.136561      1.000185  3.091321e+07  1.170035e+08     31.381405   \n",
       "min         5.000000      0.000065  0.000000e+00  0.000000e+00      0.000000   \n",
       "25%     10596.250000      0.207583  0.000000e+00  0.000000e+00     90.000000   \n",
       "50%     20669.000000      0.383856  0.000000e+00  0.000000e+00     99.000000   \n",
       "75%     75610.000000      0.713817  1.500000e+07  2.400000e+07    111.000000   \n",
       "max    417859.000000     32.985763  4.250000e+08  2.781506e+09    900.000000   \n",
       "\n",
       "         vote_count  vote_average  release_year    budget_adj   revenue_adj  \n",
       "count  10866.000000  10866.000000  10866.000000  1.086600e+04  1.086600e+04  \n",
       "mean     217.389748      5.974922   2001.322658  1.755104e+07  5.136436e+07  \n",
       "std      575.619058      0.935142     12.812941  3.430616e+07  1.446325e+08  \n",
       "min       10.000000      1.500000   1960.000000  0.000000e+00  0.000000e+00  \n",
       "25%       17.000000      5.400000   1995.000000  0.000000e+00  0.000000e+00  \n",
       "50%       38.000000      6.000000   2006.000000  0.000000e+00  0.000000e+00  \n",
       "75%      145.750000      6.600000   2011.000000  2.085325e+07  3.369710e+07  \n",
       "max     9767.000000      9.200000   2015.000000  4.250000e+08  2.827124e+09  "
      ]
     },
     "execution_count": 6,
     "metadata": {},
     "output_type": "execute_result"
    }
   ],
   "source": [
    "df.describe()"
   ]
  },
  {
   "cell_type": "markdown",
   "metadata": {},
   "source": [
    "Here i wanted to see how each feature is ditributed."
   ]
  },
  {
   "cell_type": "code",
   "execution_count": 7,
   "metadata": {},
   "outputs": [
    {
     "data": {
      "image/png": "[encoded data removed]",
      "text/plain": [
       "<Figure size 720x720 with 12 Axes>"
      ]
     },
     "metadata": {
      "needs_background": "light"
     },
     "output_type": "display_data"
    }
   ],
   "source": [
    "df.hist(figsize = (10,10));"
   ]
  },
  {
   "cell_type": "markdown",
   "metadata": {},
   "source": [
    "To get insights on what values have missing data"
   ]
  },
  {
   "cell_type": "code",
   "execution_count": 8,
   "metadata": {},
   "outputs": [
    {
     "name": "stdout",
     "output_type": "stream",
     "text": [
      "<class 'pandas.core.frame.DataFrame'>\n",
      "RangeIndex: 10866 entries, 0 to 10865\n",
      "Data columns (total 21 columns):\n",
      "id                      10866 non-null int64\n",
      "imdb_id                 10856 non-null object\n",
      "popularity              10866 non-null float64\n",
      "budget                  10866 non-null int64\n",
      "revenue                 10866 non-null int64\n",
      "original_title          10866 non-null object\n",
      "cast                    10790 non-null object\n",
      "homepage                2936 non-null object\n",
      "director                10822 non-null object\n",
      "tagline                 8042 non-null object\n",
      "keywords                9373 non-null object\n",
      "overview                10862 non-null object\n",
      "runtime                 10866 non-null int64\n",
      "genres                  10843 non-null object\n",
      "production_companies    9836 non-null object\n",
      "release_date            10866 non-null object\n",
      "vote_count              10866 non-null int64\n",
      "vote_average            10866 non-null float64\n",
      "release_year            10866 non-null int64\n",
      "budget_adj              10866 non-null float64\n",
      "revenue_adj             10866 non-null float64\n",
      "dtypes: float64(4), int64(6), object(11)\n",
      "memory usage: 1.7+ MB\n"
     ]
    }
   ],
   "source": [
    "df.info()"
   ]
  },
  {
   "cell_type": "markdown",
   "metadata": {},
   "source": [
    "### Data Cleaning:\n",
    "I only used data that have genres because i will be working later on finding the most popular genres and filled The Na data in production companies with a string to use functions later that willnot work on Na data."
   ]
  },
  {
   "cell_type": "code",
   "execution_count": 9,
   "metadata": {},
   "outputs": [],
   "source": [
    "# After discussing the structure of the data and any problems that need to be\n",
    "#   cleaned, perform those cleaning steps in the second part of this section.\n",
    "df = df.loc[df.genres.notna()]\n",
    "df['production_companies'].fillna(\"UN Known\",inplace = True)\n",
    "#df.drop(df.loc[~df.genres.isna().values,:],inplace = True, axis = 0)"
   ]
  },
  {
   "cell_type": "markdown",
   "metadata": {},
   "source": [
    "<a id='eda'></a>\n",
    "## Exploratory Data Analysis\n",
    "\n",
    "\n",
    "\n",
    "### Research Question 1 Which genres are more popular from year to year?\n",
    "First i separated \"release_year\",\"genres\",\"popularity\" columns from the data set then i separated the genres in order to specifically see which genre for each year is the most popular over the year and for that i summed the popularity for each specific genre."
   ]
  },
  {
   "cell_type": "code",
   "execution_count": 10,
   "metadata": {},
   "outputs": [
    {
     "name": "stdout",
     "output_type": "stream",
     "text": [
      "             genres  popularity\n",
      "release_year                   \n",
      "1960          Drama    7.361967\n",
      "             genres  popularity\n",
      "release_year                   \n",
      "1961          Drama    6.915731\n",
      "             genres  popularity\n",
      "release_year                   \n",
      "1962          Drama    8.232008\n",
      "                genres  popularity\n",
      "release_year                      \n",
      "1963          Thriller    7.199292\n",
      "              genres  popularity\n",
      "release_year                    \n",
      "1964          Comedy    7.859657\n",
      "             genres  popularity\n",
      "release_year                   \n",
      "1965          Drama    6.105756\n",
      "             genres  popularity\n",
      "release_year                   \n",
      "1966          Drama    5.436264\n",
      "             genres  popularity\n",
      "release_year                   \n",
      "1967          Drama    8.183477\n",
      "             genres  popularity\n",
      "release_year                   \n",
      "1968          Drama     7.54645\n",
      "             genres  popularity\n",
      "release_year                   \n",
      "1969          Drama    6.368528\n",
      "             genres  popularity\n",
      "release_year                   \n",
      "1970          Drama    6.015169\n",
      "             genres  popularity\n",
      "release_year                   \n",
      "1971          Drama   12.093149\n",
      "             genres  popularity\n",
      "release_year                   \n",
      "1972          Drama   11.127861\n",
      "             genres  popularity\n",
      "release_year                   \n",
      "1973          Drama   14.752277\n",
      "             genres  popularity\n",
      "release_year                   \n",
      "1974          Drama   11.044738\n",
      "             genres  popularity\n",
      "release_year                   \n",
      "1975          Drama     9.49863\n",
      "             genres  popularity\n",
      "release_year                   \n",
      "1976          Drama   12.950282\n",
      "                 genres  popularity\n",
      "release_year                       \n",
      "1977          Adventure   21.107186\n",
      "             genres  popularity\n",
      "release_year                   \n",
      "1978          Drama   10.224622\n",
      "             genres  popularity\n",
      "release_year                   \n",
      "1979          Drama   14.241453\n",
      "              genres  popularity\n",
      "release_year                    \n",
      "1980          Action   16.057688\n",
      "                 genres  popularity\n",
      "release_year                       \n",
      "1981          Adventure   12.261412\n",
      "             genres  popularity\n",
      "release_year                   \n",
      "1982          Drama      17.947\n",
      "              genres  popularity\n",
      "release_year                    \n",
      "1983          Action    17.87784\n",
      "              genres  popularity\n",
      "release_year                    \n",
      "1984          Action   25.232337\n",
      "              genres  popularity\n",
      "release_year                    \n",
      "1985          Comedy   31.857277\n",
      "             genres  popularity\n",
      "release_year                   \n",
      "1986          Drama   25.277879\n",
      "              genres  popularity\n",
      "release_year                    \n",
      "1987          Comedy   27.906589\n",
      "              genres  popularity\n",
      "release_year                    \n",
      "1988          Comedy     34.3079\n",
      "              genres  popularity\n",
      "release_year                    \n",
      "1989          Comedy   33.557534\n",
      "             genres  popularity\n",
      "release_year                   \n",
      "1990          Drama   31.120535\n",
      "              genres  popularity\n",
      "release_year                    \n",
      "1991          Comedy   26.626168\n",
      "              genres  popularity\n",
      "release_year                    \n",
      "1992          Comedy   32.115571\n",
      "             genres  popularity\n",
      "release_year                   \n",
      "1993          Drama   50.140873\n",
      "             genres  popularity\n",
      "release_year                   \n",
      "1994          Drama   59.878062\n",
      "             genres  popularity\n",
      "release_year                   \n",
      "1995          Drama   60.142269\n",
      "             genres  popularity\n",
      "release_year                   \n",
      "1996          Drama    59.87025\n",
      "                genres  popularity\n",
      "release_year                      \n",
      "1997          Thriller   55.576138\n",
      "             genres  popularity\n",
      "release_year                   \n",
      "1998          Drama   62.846816\n",
      "             genres  popularity\n",
      "release_year                   \n",
      "1999          Drama   72.207569\n",
      "              genres  popularity\n",
      "release_year                    \n",
      "2000          Comedy   51.696602\n",
      "             genres  popularity\n",
      "release_year                   \n",
      "2001          Drama   64.486478\n",
      "             genres  popularity\n",
      "release_year                   \n",
      "2002          Drama   73.772566\n",
      "              genres  popularity\n",
      "release_year                    \n",
      "2003          Action   83.196715\n",
      "              genres  popularity\n",
      "release_year                    \n",
      "2004          Comedy    85.54979\n",
      "             genres  popularity\n",
      "release_year                   \n",
      "2005          Drama    96.90395\n",
      "             genres  popularity\n",
      "release_year                   \n",
      "2006          Drama  109.448943\n",
      "             genres  popularity\n",
      "release_year                   \n",
      "2007          Drama  109.945124\n",
      "             genres  popularity\n",
      "release_year                   \n",
      "2008          Drama  123.854529\n",
      "             genres  popularity\n",
      "release_year                   \n",
      "2009          Drama  126.897208\n",
      "             genres  popularity\n",
      "release_year                   \n",
      "2010          Drama  123.715224\n",
      "             genres  popularity\n",
      "release_year                   \n",
      "2011          Drama  128.088313\n",
      "             genres  popularity\n",
      "release_year                   \n",
      "2012          Drama  140.376994\n",
      "             genres  popularity\n",
      "release_year                   \n",
      "2013          Drama  166.999176\n",
      "             genres  popularity\n",
      "release_year                   \n",
      "2014          Drama  246.362717\n",
      "             genres  popularity\n",
      "release_year                   \n",
      "2015          Drama  243.848091\n"
     ]
    }
   ],
   "source": [
    "# Use this, and more code cells, to explore your data. Don't forget to add\n",
    "#   Markdown cells to document your observations and findings.\n",
    "def q_1():\n",
    "    df_genres = df.loc[:,[\"release_year\",\"genres\",\"popularity\"]]\n",
    "    df1 = df_genres.copy()\n",
    "    df1['genres'] = df1['genres'].str.split('|')\n",
    "    df1 = (df1\n",
    "     .set_index([\"release_year\",\"popularity\"])['genres']\n",
    "     .apply(pd.Series)\n",
    "     .stack()\n",
    "     .reset_index()\n",
    "     .drop('level_2', axis=1)\n",
    "     .rename(columns={0:'genres'}))\n",
    "    df1 = df1.groupby(['release_year','genres']).sum()\n",
    "    df1 = df1.reset_index().set_index('release_year')\n",
    "    for data in df1.index.unique():\n",
    "        print(df1.loc[df1.popularity==df1.loc[df1.index == data,'popularity'].max(),:])\n",
    "q_1()"
   ]
  },
  {
   "cell_type": "markdown",
   "metadata": {},
   "source": [
    "### Research Question 2  What are the properities associated with movies that have high revenues."
   ]
  },
  {
   "cell_type": "code",
   "execution_count": 11,
   "metadata": {},
   "outputs": [
    {
     "data": {
      "text/html": [
       "<div>\n",
       "<style scoped>\n",
       "    .dataframe tbody tr th:only-of-type {\n",
       "        vertical-align: middle;\n",
       "    }\n",
       "\n",
       "    .dataframe tbody tr th {\n",
       "        vertical-align: top;\n",
       "    }\n",
       "\n",
       "    .dataframe thead th {\n",
       "        text-align: right;\n",
       "    }\n",
       "</style>\n",
       "<table border=\"1\" class=\"dataframe\">\n",
       "  <thead>\n",
       "    <tr style=\"text-align: right;\">\n",
       "      <th></th>\n",
       "      <th>id</th>\n",
       "      <th>popularity</th>\n",
       "      <th>budget</th>\n",
       "      <th>revenue</th>\n",
       "      <th>runtime</th>\n",
       "      <th>vote_count</th>\n",
       "      <th>vote_average</th>\n",
       "      <th>release_year</th>\n",
       "      <th>budget_adj</th>\n",
       "      <th>revenue_adj</th>\n",
       "    </tr>\n",
       "  </thead>\n",
       "  <tbody>\n",
       "    <tr>\n",
       "      <td>count</td>\n",
       "      <td>2261.000000</td>\n",
       "      <td>2261.000000</td>\n",
       "      <td>2.261000e+03</td>\n",
       "      <td>2.261000e+03</td>\n",
       "      <td>2261.00000</td>\n",
       "      <td>2261.000000</td>\n",
       "      <td>2261.000000</td>\n",
       "      <td>2261.000000</td>\n",
       "      <td>2.261000e+03</td>\n",
       "      <td>2.261000e+03</td>\n",
       "    </tr>\n",
       "    <tr>\n",
       "      <td>mean</td>\n",
       "      <td>31956.323751</td>\n",
       "      <td>1.557742</td>\n",
       "      <td>4.920612e+07</td>\n",
       "      <td>1.765082e+08</td>\n",
       "      <td>113.05617</td>\n",
       "      <td>772.407784</td>\n",
       "      <td>6.306369</td>\n",
       "      <td>1999.214065</td>\n",
       "      <td>5.830409e+07</td>\n",
       "      <td>2.282261e+08</td>\n",
       "    </tr>\n",
       "    <tr>\n",
       "      <td>std</td>\n",
       "      <td>60133.554335</td>\n",
       "      <td>1.767902</td>\n",
       "      <td>4.891026e+07</td>\n",
       "      <td>2.046539e+08</td>\n",
       "      <td>24.06729</td>\n",
       "      <td>1051.490409</td>\n",
       "      <td>0.735536</td>\n",
       "      <td>12.460245</td>\n",
       "      <td>5.049916e+07</td>\n",
       "      <td>2.461158e+08</td>\n",
       "    </tr>\n",
       "    <tr>\n",
       "      <td>min</td>\n",
       "      <td>11.000000</td>\n",
       "      <td>0.010335</td>\n",
       "      <td>0.000000e+00</td>\n",
       "      <td>7.100000e+06</td>\n",
       "      <td>44.00000</td>\n",
       "      <td>10.000000</td>\n",
       "      <td>3.400000</td>\n",
       "      <td>1960.000000</td>\n",
       "      <td>0.000000e+00</td>\n",
       "      <td>5.152769e+07</td>\n",
       "    </tr>\n",
       "    <tr>\n",
       "      <td>25%</td>\n",
       "      <td>2157.000000</td>\n",
       "      <td>0.665367</td>\n",
       "      <td>1.500000e+07</td>\n",
       "      <td>6.180197e+07</td>\n",
       "      <td>98.00000</td>\n",
       "      <td>164.000000</td>\n",
       "      <td>5.800000</td>\n",
       "      <td>1992.000000</td>\n",
       "      <td>2.203826e+07</td>\n",
       "      <td>8.361457e+07</td>\n",
       "    </tr>\n",
       "    <tr>\n",
       "      <td>50%</td>\n",
       "      <td>9919.000000</td>\n",
       "      <td>1.102836</td>\n",
       "      <td>3.500000e+07</td>\n",
       "      <td>1.070717e+08</td>\n",
       "      <td>110.00000</td>\n",
       "      <td>379.000000</td>\n",
       "      <td>6.300000</td>\n",
       "      <td>2002.000000</td>\n",
       "      <td>4.466253e+07</td>\n",
       "      <td>1.421194e+08</td>\n",
       "    </tr>\n",
       "    <tr>\n",
       "      <td>75%</td>\n",
       "      <td>21845.000000</td>\n",
       "      <td>1.832434</td>\n",
       "      <td>7.000000e+07</td>\n",
       "      <td>2.066784e+08</td>\n",
       "      <td>124.00000</td>\n",
       "      <td>929.000000</td>\n",
       "      <td>6.800000</td>\n",
       "      <td>2009.000000</td>\n",
       "      <td>8.102293e+07</td>\n",
       "      <td>2.682159e+08</td>\n",
       "    </tr>\n",
       "    <tr>\n",
       "      <td>max</td>\n",
       "      <td>417859.000000</td>\n",
       "      <td>32.985763</td>\n",
       "      <td>3.800000e+08</td>\n",
       "      <td>2.781506e+09</td>\n",
       "      <td>705.00000</td>\n",
       "      <td>9767.000000</td>\n",
       "      <td>8.300000</td>\n",
       "      <td>2015.000000</td>\n",
       "      <td>3.683713e+08</td>\n",
       "      <td>2.827124e+09</td>\n",
       "    </tr>\n",
       "  </tbody>\n",
       "</table>\n",
       "</div>"
      ],
      "text/plain": [
       "                  id   popularity        budget       revenue     runtime  \\\n",
       "count    2261.000000  2261.000000  2.261000e+03  2.261000e+03  2261.00000   \n",
       "mean    31956.323751     1.557742  4.920612e+07  1.765082e+08   113.05617   \n",
       "std     60133.554335     1.767902  4.891026e+07  2.046539e+08    24.06729   \n",
       "min        11.000000     0.010335  0.000000e+00  7.100000e+06    44.00000   \n",
       "25%      2157.000000     0.665367  1.500000e+07  6.180197e+07    98.00000   \n",
       "50%      9919.000000     1.102836  3.500000e+07  1.070717e+08   110.00000   \n",
       "75%     21845.000000     1.832434  7.000000e+07  2.066784e+08   124.00000   \n",
       "max    417859.000000    32.985763  3.800000e+08  2.781506e+09   705.00000   \n",
       "\n",
       "        vote_count  vote_average  release_year    budget_adj   revenue_adj  \n",
       "count  2261.000000   2261.000000   2261.000000  2.261000e+03  2.261000e+03  \n",
       "mean    772.407784      6.306369   1999.214065  5.830409e+07  2.282261e+08  \n",
       "std    1051.490409      0.735536     12.460245  5.049916e+07  2.461158e+08  \n",
       "min      10.000000      3.400000   1960.000000  0.000000e+00  5.152769e+07  \n",
       "25%     164.000000      5.800000   1992.000000  2.203826e+07  8.361457e+07  \n",
       "50%     379.000000      6.300000   2002.000000  4.466253e+07  1.421194e+08  \n",
       "75%     929.000000      6.800000   2009.000000  8.102293e+07  2.682159e+08  \n",
       "max    9767.000000      8.300000   2015.000000  3.683713e+08  2.827124e+09  "
      ]
     },
     "execution_count": 11,
     "metadata": {},
     "output_type": "execute_result"
    }
   ],
   "source": [
    "# Continue to explore the data to address your additional research\n",
    "#   questions. Add more headers as needed if you have more questions to\n",
    "#   investigate.\n",
    "def q_2():\n",
    "    df_rev = df.loc[df.revenue_adj > df.revenue_adj.mean()]\n",
    "    return df_rev.describe()\n",
    "q_2()"
   ]
  },
  {
   "cell_type": "markdown",
   "metadata": {},
   "source": [
    "### Research Question 3  What year has seen the most releases?"
   ]
  },
  {
   "cell_type": "code",
   "execution_count": 12,
   "metadata": {},
   "outputs": [
    {
     "data": {
      "text/plain": [
       "2014"
      ]
     },
     "execution_count": 12,
     "metadata": {},
     "output_type": "execute_result"
    }
   ],
   "source": [
    "def q_3():\n",
    "    df_years = df.groupby(\"release_year\")\n",
    "    return df_years.size().idxmax()\n",
    "q_3()"
   ]
  },
  {
   "cell_type": "markdown",
   "metadata": {},
   "source": [
    "### Research Question 4 What is the relationship between budget and revenue?"
   ]
  },
  {
   "cell_type": "code",
   "execution_count": 13,
   "metadata": {},
   "outputs": [
    {
     "name": "stderr",
     "output_type": "stream",
     "text": [
      "C:\\Users\\Dell\\Anaconda3\\lib\\site-packages\\pandas\\core\\generic.py:6786: SettingWithCopyWarning: \n",
      "A value is trying to be set on a copy of a slice from a DataFrame\n",
      "\n",
      "See the caveats in the documentation: http://pandas.pydata.org/pandas-docs/stable/user_guide/indexing.html#returning-a-view-versus-a-copy\n",
      "  self._update_inplace(new_data)\n",
      "C:\\Users\\Dell\\Anaconda3\\lib\\site-packages\\pandas\\core\\generic.py:6786: SettingWithCopyWarning: \n",
      "A value is trying to be set on a copy of a slice from a DataFrame\n",
      "\n",
      "See the caveats in the documentation: http://pandas.pydata.org/pandas-docs/stable/user_guide/indexing.html#returning-a-view-versus-a-copy\n",
      "  self._update_inplace(new_data)\n"
     ]
    },
    {
     "data": {
      "image/png": "[encoded data removed]",
      "text/plain": [
       "<Figure size 432x288 with 1 Axes>"
      ]
     },
     "metadata": {
      "needs_background": "light"
     },
     "output_type": "display_data"
    }
   ],
   "source": [
    "def q_4():\n",
    "    df_bud_rev = df[['budget','revenue']]\n",
    "    df_bud_rev['budget'].replace(to_replace = 0,value = df_bud_rev['budget'].mean(),inplace =True)\n",
    "    df_bud_rev['revenue'].replace(to_replace = 0,value = df_bud_rev['revenue'].mean(),inplace =True)\n",
    "    #df_bud_rev.head()\n",
    "    plt.scatter(df_bud_rev.budget,df_bud_rev.revenue)\n",
    "    plt.xlabel('budget')\n",
    "    plt.ylabel('revenue')\n",
    "    plt.title('relationship between budget and revenue')\n",
    "    df_bud_rev.shape\n",
    "q_4()"
   ]
  },
  {
   "cell_type": "markdown",
   "metadata": {},
   "source": [
    "For the previous plot we can see that there is a correlation between budget and revenue a positive one and we can see that there are outliers and some movies had small revenue despite having large budgets, also i removed all the 0 values in both revenue and budget for Convenience."
   ]
  },
  {
   "cell_type": "code",
   "execution_count": 14,
   "metadata": {},
   "outputs": [
    {
     "data": {
      "image/png": "[encoded data removed]",
      "text/plain": [
       "<Figure size 432x288 with 1 Axes>"
      ]
     },
     "metadata": {
      "needs_background": "light"
     },
     "output_type": "display_data"
    }
   ],
   "source": [
    "def q_4_2():\n",
    "    df_bud_rev = df[['budget_adj','revenue_adj']]\n",
    "    df_bud_rev['budget_adj'].replace(to_replace = 0,value = df_bud_rev['budget_adj'].mean(),inplace =True)\n",
    "    df_bud_rev['revenue_adj'].replace(to_replace = 0,value = df_bud_rev['revenue_adj'].mean(),inplace =True)\n",
    "    plt.scatter(df_bud_rev.budget_adj,df_bud_rev.revenue_adj)\n",
    "    plt.xlabel('budget_adj')\n",
    "    plt.ylabel('revenue_adj')\n",
    "    plt.title('relationship between budget and revenue')\n",
    "q_4_2()"
   ]
  },
  {
   "cell_type": "markdown",
   "metadata": {},
   "source": [
    "For the previous plot we can see that there is a correlation between budget and revenue a positive one and we can see that there are outliers and some movies had small revenue despite having large budgets but here we can see more outliers than before  also i removed all the 0 values in both revenue_adj and budget_adj for Convenience."
   ]
  },
  {
   "cell_type": "markdown",
   "metadata": {},
   "source": [
    "### Research Question 5 which group of production companies have the most revenue of all time?"
   ]
  },
  {
   "cell_type": "code",
   "execution_count": 15,
   "metadata": {},
   "outputs": [
    {
     "data": {
      "text/plain": [
       "array(['Ingenious Film Partners|Twentieth Century Fox Film Corporation|Dune Entertainment|Lightstorm Entertainment'],\n",
       "      dtype=object)"
      ]
     },
     "execution_count": 15,
     "metadata": {},
     "output_type": "execute_result"
    }
   ],
   "source": [
    "def q_5():\n",
    "    df_com_rev = df.loc[:,['production_companies','revenue_adj']]\n",
    "    return df_com_rev.loc[df.revenue_adj == df.revenue_adj.max(),'production_companies'].values\n",
    "q_5()"
   ]
  },
  {
   "cell_type": "markdown",
   "metadata": {},
   "source": [
    "### Research Question 6 which production company has the most revenue of all time?"
   ]
  },
  {
   "cell_type": "code",
   "execution_count": 16,
   "metadata": {},
   "outputs": [
    {
     "data": {
      "text/plain": [
       "'Warner Bros.'"
      ]
     },
     "execution_count": 16,
     "metadata": {},
     "output_type": "execute_result"
    }
   ],
   "source": [
    "def q_6():\n",
    "    df1 = df.loc[:,['production_companies','revenue_adj']]\n",
    "    df1['production_companies'] = df1['production_companies'].str.split('|')\n",
    "    df1 = (df1\n",
    "     .set_index(['revenue_adj'])['production_companies']\n",
    "     .apply(pd.Series)\n",
    "     .stack()\n",
    "     .reset_index()\n",
    "     .drop('level_1', axis=1)\n",
    "     .rename(columns={0:'production_companies'}))\n",
    "    df1 = df1.groupby('production_companies')\n",
    "    return df1['revenue_adj'].sum().idxmax()\n",
    "q_6()"
   ]
  },
  {
   "cell_type": "markdown",
   "metadata": {},
   "source": [
    "### Research Question 7 what is the run time that most movies hava?"
   ]
  },
  {
   "cell_type": "code",
   "execution_count": 17,
   "metadata": {},
   "outputs": [
    {
     "data": {
      "image/png": "[encoded data removed]",
      "text/plain": [
       "<Figure size 432x288 with 1 Axes>"
      ]
     },
     "metadata": {
      "needs_background": "light"
     },
     "output_type": "display_data"
    },
    {
     "data": {
      "image/png": "[encoded data removed]",
      "text/plain": [
       "<Figure size 432x288 with 1 Axes>"
      ]
     },
     "metadata": {
      "needs_background": "light"
     },
     "output_type": "display_data"
    }
   ],
   "source": [
    "def q_7():\n",
    "    df_rt = df.loc[df.runtime > 15,'runtime']\n",
    "    plt.hist(df_rt,bins = np.arange(25,200));\n",
    "    plt.show()\n",
    "    plt.xlabel(\"run_time\")\n",
    "    plt.ylabel('freq')\n",
    "    plt.boxplot(df_rt);\n",
    "q_7()"
   ]
  },
  {
   "cell_type": "markdown",
   "metadata": {},
   "source": [
    "By removing outliers and ploting a histogram of the run time we can see that most movies' run time is approximately less than 85 and there are alot of outliers that made the mean large as shown by the boxplot."
   ]
  },
  {
   "cell_type": "markdown",
   "metadata": {},
   "source": [
    "<a id='conclusions'></a>\n",
    "## Conclusions\n",
    "\n",
    "From the analysis we can see that each year have a different popular genre and we also can see some properties associated with higher revenues and that warnerbros is the company with the highest revenues of all time despite not being in the group of production companies with the highst revenue_adj of all time and we can see that the budget and revenue have a mild positive relationship also the budget_adj and revenue_adj, we can see aswell that 2014 has seen the most movies releases and we can see that drama, comedy,action and thriller are the most popular genres across the years.\n",
    "One of the limitations I faced was that movies aren't given a one specified genre and i wanted to know what genre exactly dominated this year specifically i wanted to know exactly which genre dominated each movie, movies could not be updated and as such my exploration is biased to older movies, the newer ones could potentially change my insights."
   ]
  },
  {
   "cell_type": "code",
   "execution_count": 19,
   "metadata": {},
   "outputs": [
    {
     "data": {
      "text/plain": [
       "0"
      ]
     },
     "execution_count": 19,
     "metadata": {},
     "output_type": "execute_result"
    }
   ],
   "source": [
    "from subprocess import call\n",
    "call(['python', '-m', 'nbconvert', 'tmdb-movies investigation.ipynb'])"
   ]
  },
  {
   "cell_type": "code",
   "execution_count": null,
   "metadata": {},
   "outputs": [],
   "source": []
  }
 ],
 "metadata": {
  "kernelspec": {
   "display_name": "Python 3",
   "language": "python",
   "name": "python3"
  },
  "language_info": {
   "codemirror_mode": {
    "name": "ipython",
    "version": 3
   },
   "file_extension": ".py",
   "mimetype": "text/x-python",
   "name": "python",
   "nbconvert_exporter": "python",
   "pygments_lexer": "ipython3",
   "version": "3.7.4"
  }
 },
 "nbformat": 4,
 "nbformat_minor": 2
}
